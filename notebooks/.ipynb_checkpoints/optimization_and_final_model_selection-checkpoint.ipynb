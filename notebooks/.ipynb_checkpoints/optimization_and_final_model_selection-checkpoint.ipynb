{
 "cells": [
  {
   "cell_type": "code",
   "execution_count": 1,
   "id": "5dc79530-cba2-41b3-9821-4b4e1039d9be",
   "metadata": {},
   "outputs": [],
   "source": [
    "import pandas as pd\n",
    "from sklearn.model_selection import train_test_split\n",
    "\n",
    "# Load preprocessed data\n",
    "data = pd.read_csv('../data/processed_creditcard.csv')"
   ]
  },
  {
   "cell_type": "code",
   "execution_count": 2,
   "id": "cdeb3ca7-ed2d-4567-8971-83d7f6ec291b",
   "metadata": {},
   "outputs": [
    {
     "name": "stdout",
     "output_type": "stream",
     "text": [
      "Training set shape: (226980, 30)\n",
      "Testing set shape: (56746, 30)\n"
     ]
    }
   ],
   "source": [
    "# Split into features and target\n",
    "X = data.drop('Class', axis=1)\n",
    "y = data['Class']\n",
    "\n",
    "# Split into training and testing sets\n",
    "X_train, X_test, y_train, y_test = train_test_split(X, y, test_size=0.2, random_state=42, stratify=y)\n",
    "\n",
    "print(\"Training set shape:\", X_train.shape)\n",
    "print(\"Testing set shape:\", X_test.shape)"
   ]
  },
  {
   "cell_type": "code",
   "execution_count": 3,
   "id": "16f8df93-26b4-4571-8c50-5dc4656576cd",
   "metadata": {},
   "outputs": [
    {
     "name": "stdout",
     "output_type": "stream",
     "text": [
      "Resampled training set shape: (453204, 30)\n"
     ]
    }
   ],
   "source": [
    "# Handle Class Imbalance\n",
    "from imblearn.over_sampling import SMOTE\n",
    "\n",
    "# Apply SMOTE to the training data\n",
    "smote = SMOTE(random_state=42)\n",
    "X_train_resampled, y_train_resampled = smote.fit_resample(X_train, y_train)\n",
    "\n",
    "print(\"Resampled training set shape:\", X_train_resampled.shape)"
   ]
  },
  {
   "cell_type": "markdown",
   "id": "a2994b83-0846-4f2b-abdc-3875ca71cd6d",
   "metadata": {},
   "source": [
    "Use SMOTE (Synthetic Minority Oversampling Technique) to balance the dataset. This will generate synthetic samples of the minority class (frauds) to balance the class distribution."
   ]
  },
  {
   "cell_type": "code",
   "execution_count": 4,
   "id": "a3a828fc-8a59-4702-b2a3-922e588eb2a1",
   "metadata": {},
   "outputs": [],
   "source": [
    "# Use a smaller subset for tuning\n",
    "X_train_sample, _, y_train_sample, _ = train_test_split(X_train_resampled, y_train_resampled, train_size=0.2, random_state=42)"
   ]
  },
  {
   "cell_type": "code",
   "execution_count": 5,
   "id": "23956abc-7b9c-4775-ae73-00453e885ca4",
   "metadata": {},
   "outputs": [],
   "source": [
    "# Define Models and Hyperparameter Grids\n",
    "from sklearn.ensemble import RandomForestClassifier\n",
    "from sklearn.linear_model import LogisticRegression\n",
    "from sklearn.ensemble import GradientBoostingClassifier\n",
    "\n",
    "# Define models\n",
    "models = {\n",
    "    'Logistic Regression': LogisticRegression(class_weight='balanced', random_state=42),\n",
    "    'Gradient Boosting': GradientBoostingClassifier(random_state=42),\n",
    "    'Random Forest': RandomForestClassifier(class_weight='balanced', random_state=42)\n",
    "}\n",
    "\n",
    "# Define hyperparameter grids\n",
    "# Use fewer iterations and narrower ranges\n",
    "param_grids = {\n",
    "    'Logistic Regression': {\n",
    "        'C': [0.1, 1, 10],\n",
    "        'penalty': ['l2']\n",
    "    },\n",
    "    'Gradient Boosting': {\n",
    "        'n_estimators': [100, 200],\n",
    "        'learning_rate': [0.1, 0.2],\n",
    "        'max_depth': [3, 5]\n",
    "    },\n",
    "    'Random Forest': {\n",
    "        'n_estimators': [100, 200],\n",
    "        'max_depth': [10, 20],\n",
    "        'min_samples_split': [2, 5]\n",
    "    }\n",
    "}"
   ]
  },
  {
   "cell_type": "markdown",
   "id": "d6e77742-9570-4286-b0db-67a095e0e985",
   "metadata": {},
   "source": [
    "We just defined the models you want to optimize (i.e, Random Forest, Logistic Regression, Gradient Boosting) and their respective hyperparameter grids."
   ]
  },
  {
   "cell_type": "code",
   "execution_count": 6,
   "id": "1c7f786f-364d-4a19-a0ad-2cca0a249eb6",
   "metadata": {
    "scrolled": true
   },
   "outputs": [
    {
     "name": "stdout",
     "output_type": "stream",
     "text": [
      "Optimizing Logistic Regression...\n"
     ]
    },
    {
     "name": "stderr",
     "output_type": "stream",
     "text": [
      "/home/ryomen/.local/lib/python3.8/site-packages/sklearn/model_selection/_search.py:307: UserWarning: The total space of parameters 3 is smaller than n_iter=5. Running 3 iterations. For exhaustive searches, use GridSearchCV.\n",
      "  warnings.warn(\n"
     ]
    },
    {
     "name": "stdout",
     "output_type": "stream",
     "text": [
      "Best parameters for Logistic Regression: {'penalty': 'l2', 'C': 10}\n",
      "-----------------------------------------------------------------------\n",
      "Optimizing Gradient Boosting...\n"
     ]
    },
    {
     "name": "stderr",
     "output_type": "stream",
     "text": [
      "/home/ryomen/.local/lib/python3.8/site-packages/sklearn/linear_model/_logistic.py:460: ConvergenceWarning: lbfgs failed to converge (status=1):\n",
      "STOP: TOTAL NO. of ITERATIONS REACHED LIMIT.\n",
      "\n",
      "Increase the number of iterations (max_iter) or scale the data as shown in:\n",
      "    https://scikit-learn.org/stable/modules/preprocessing.html\n",
      "Please also refer to the documentation for alternative solver options:\n",
      "    https://scikit-learn.org/stable/modules/linear_model.html#logistic-regression\n",
      "  n_iter_i = _check_optimize_result(\n"
     ]
    },
    {
     "name": "stdout",
     "output_type": "stream",
     "text": [
      "Best parameters for Gradient Boosting: {'n_estimators': 200, 'max_depth': 5, 'learning_rate': 0.2}\n",
      "-----------------------------------------------------------------------\n",
      "Optimizing Random Forest...\n",
      "Best parameters for Random Forest: {'n_estimators': 200, 'min_samples_split': 2, 'max_depth': 20}\n",
      "-----------------------------------------------------------------------\n"
     ]
    }
   ],
   "source": [
    "from sklearn.model_selection import RandomizedSearchCV\n",
    "import numpy as np\n",
    "\n",
    "# Dictionary to store the best models\n",
    "best_models = {}\n",
    "\n",
    "# Perform Randomized Search for each model\n",
    "# Perform Randomized Search with fewer iterations\n",
    "for model_name, model in models.items():\n",
    "    print(f\"Optimizing {model_name}...\")\n",
    "    random_search = RandomizedSearchCV(\n",
    "        estimator=model,\n",
    "        param_distributions=param_grids[model_name],\n",
    "        n_iter=5,  # Fewer iterations\n",
    "        cv=3,\n",
    "        scoring='f1',\n",
    "        n_jobs=-1,\n",
    "        random_state=42\n",
    "    )\n",
    "    random_search.fit(X_train_sample, y_train_sample)\n",
    "    best_models[model_name] = random_search.best_estimator_\n",
    "    print(f\"Best parameters for {model_name}:\", random_search.best_params_)\n",
    "    print(\"-----------------------------------------------------------------------\")"
   ]
  },
  {
   "cell_type": "markdown",
   "id": "19007fc0-094c-487d-bb47-482b2d11df97",
   "metadata": {},
   "source": [
    "We use GridSearchCV to find the best hyperparameters for each model. Optimize for F1-score since it balances precision and recall."
   ]
  },
  {
   "cell_type": "code",
   "execution_count": 9,
   "id": "d91829b5-7905-4c88-9d11-08a5c756d8e8",
   "metadata": {},
   "outputs": [
    {
     "name": "stdout",
     "output_type": "stream",
     "text": [
      "The best model is Random Forest with an F1-score of 1.00\n"
     ]
    }
   ],
   "source": [
    "# Select the Best Model\n",
    "from sklearn.metrics import classification_report\n",
    "\n",
    "# Compare models and select the best one\n",
    "best_model_name = None\n",
    "best_f1_score = 0\n",
    "\n",
    "for model_name, model in best_models.items():\n",
    "    y_pred = model.predict(X_test)\n",
    "    report = classification_report(y_test, y_pred, output_dict=True)\n",
    "    f1_score = report['weighted avg']['f1-score']\n",
    "    \n",
    "    if f1_score > best_f1_score:\n",
    "        best_f1_score = f1_score\n",
    "        best_model_name = model_name\n",
    "\n",
    "print(f\"The best model is {best_model_name} with an F1-score of {best_f1_score:.2f}\")"
   ]
  },
  {
   "cell_type": "markdown",
   "id": "9ac1a10b-c41c-48be-b669-df181d243e5a",
   "metadata": {},
   "source": [
    "Compare the performance of all optimized models and select the one with the highest F1-score and AUPRC.\n",
    "Given the high class imbalance (frauds account for only 0.172% of transactions), it's crucial to focus on metrics like Precision-Recall Curve (AUPRC) and F1-score rather than accuracy. Accuracy can be misleading in such cases because a model that always predicts the majority class (non-fraud) would still achieve high accuracy but fail to detect fraud."
   ]
  },
  {
   "cell_type": "code",
   "execution_count": 10,
   "id": "067bf4b1-b42d-4fee-be21-08db973a54c1",
   "metadata": {},
   "outputs": [
    {
     "data": {
      "text/plain": [
       "['../models/final_model.pkl']"
      ]
     },
     "execution_count": 10,
     "metadata": {},
     "output_type": "execute_result"
    }
   ],
   "source": [
    "# Save the Final Model\n",
    "import joblib\n",
    "\n",
    "# Save the final model\n",
    "best_model = best_models[best_model_name]\n",
    "joblib.dump(best_model, '../models/final_model.pkl')"
   ]
  },
  {
   "cell_type": "code",
   "execution_count": 14,
   "id": "31342fa9-dad1-4521-ae44-59ed82df0b5b",
   "metadata": {},
   "outputs": [],
   "source": [
    "from sklearn.metrics import precision_recall_curve, auc\n",
    "\n",
    "# Generate Performance Report\n",
    "y_pred = best_model.predict(X_test)\n",
    "y_pred_proba = best_model.predict_proba(X_test)[:, 1]\n",
    "report = classification_report(y_test, y_pred, output_dict=True)\n",
    "report_df = pd.DataFrame(report).transpose()\n",
    "\n",
    "# Add AUPRC to the report\n",
    "precision, recall, _ = precision_recall_curve(y_test, y_pred_proba)\n",
    "auprc = auc(recall, precision)\n",
    "report_df.loc['AUPRC'] = {'precision': auprc, 'recall': '', 'f1-score': '', 'support': ''}\n",
    "\n",
    "# Save report\n",
    "report_df.to_csv('../reports/final_model_performance.txt', sep='\\t')"
   ]
  },
  {
   "cell_type": "markdown",
   "id": "93462579-8129-4a49-acd2-9d3867a1a738",
   "metadata": {},
   "source": [
    "Document Findings\n",
    "Update the project documentation to include the results of Phase 4. Highlight:\n",
    "\n",
    "The best-performing model and its hyperparameters.\n",
    "\n",
    "Key metrics (F1-score, AUPRC, Confusion Matrix).\n",
    "\n",
    "Insights from the Precision-Recall Curve."
   ]
  }
 ],
 "metadata": {
  "kernelspec": {
   "display_name": "Python 3 (ipykernel)",
   "language": "python",
   "name": "python3"
  },
  "language_info": {
   "codemirror_mode": {
    "name": "ipython",
    "version": 3
   },
   "file_extension": ".py",
   "mimetype": "text/x-python",
   "name": "python",
   "nbconvert_exporter": "python",
   "pygments_lexer": "ipython3",
   "version": "3.8.10"
  }
 },
 "nbformat": 4,
 "nbformat_minor": 5
}
